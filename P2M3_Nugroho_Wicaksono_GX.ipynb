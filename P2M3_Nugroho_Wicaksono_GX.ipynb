{
 "cells": [
  {
   "attachments": {},
   "cell_type": "markdown",
   "metadata": {},
   "source": [
    "# Perkenalan "
   ]
  },
  {
   "attachments": {},
   "cell_type": "markdown",
   "metadata": {},
   "source": [
    "\n",
    "   ==============================================\n",
    "   \n",
    "   M3\n",
    "\n",
    "    Nama  : Nugroho Wicaksono\n",
    "    Batch : FTDS-029\n",
    "\n",
    "    Proyek ini merupakan Projek tambahan yang mendukung Milestone Project 3 yang fokus pada pembangunan data pipeline untuk menganalisis data penjualan laptop dan PC. Pipeline ini dibuat secara profesional menggunakan Apache Airflow untuk mengorkestrasi seluruh alur kerja data. Data yang telah bersih kemudian diolah dan divisualisasikan dengan Elasticsearch dan Kibana untuk mendapatkan wawasan bisnis yang bermanfaat. Untuk memastikan kualitas data, Great Expectations digunakan untuk memvalidasi data dan memastikan akurasinya. Proyek ini bertujuan untuk mendemonstrasikan proses dari data mentah menjadi informasi yang akurat dan terpercaya.\n",
    "    \n",
    "   =============================================="
   ]
  },
  {
   "attachments": {},
   "cell_type": "markdown",
   "metadata": {},
   "source": [
    "\n",
    "Proyek: Analisis Harga Laptop & Validasi Data dengan Great Expectations\n",
    "=======================================================================\n",
    "\n",
    "Tujuan Proyek:\n",
    "-----------------\n",
    "Dalam proyek ini, saya berperan sebagai Data Analyst yang bertugas untuk menganalisis tren harga laptop \n",
    "di berbagai platform e-commerce. Fokus utama proyek ini mencakup:\n",
    "\n",
    "1. Mengidentifikasi Faktor Penentu Harga:\n",
    "   - Menentukan fitur-fitur utama yang memengaruhi harga laptop seperti:\n",
    "     - Brand (merek)\n",
    "     - Jenis prosesor\n",
    "     - Kapasitas RAM\n",
    "     - Tipe dan ukuran penyimpanan\n",
    "     - Ukuran layar\n",
    "     - Rating dan jumlah ulasan\n",
    "     - Sistem operasi\n",
    "   - Tujuannya adalah memahami variasi harga antar model berdasarkan konfigurasi teknis.\n",
    "\n",
    "2. Pembersihan & Validasi Data (Great Expectations):\n",
    "   - Dataset mentah umumnya mengandung data yang tidak konsisten, missing value, dan tipe data tidak sesuai.\n",
    "   - Proses cleaning dilakukan menggunakan DAG pipeline.\n",
    "   - Validasi data dilakukan dengan library `great_expectations`, meliputi:\n",
    "     - Pengecekan nilai berada dalam rentang wajar (misalnya: harga > 0)\n",
    "     - Tipe data kolom sesuai (misalnya: RAM = integer)\n",
    "     - Kolom nilai unique ada atau tidak\n",
    "     - Cek duplikasi jika diperlukan\n",
    "   - Tujuan akhir: memastikan data yang digunakan layak dianalisis dan terpercaya.\n",
    "\n",
    "3. Memberikan Insight untuk Strategi Bisnis:\n",
    "   - Mendukung tim e-commerce & bisnis dalam:\n",
    "     - Menentukan strategi harga yang kompetitif\n",
    "     - Menyoroti fitur penting di listing produk\n",
    "     - Meningkatkan tingkat konversi dan kepuasan pelanggan\n",
    "   - Analisis ini bertujuan membantu perusahaan memahami persepsi nilai oleh konsumen berdasarkan spesifikasi produk.\n",
    "\n",
    "Tools yang Digunakan:\n",
    "------------------------\n",
    "- Python 3.10.18\n",
    "- pandas 2.3.1\n",
    "- great_expectations 0.18.19\n",
    "- PostgreSQL (Docker)\n",
    "- Jupyter Notebook / VS Code\n",
    "\n"
   ]
  },
  {
   "attachments": {},
   "cell_type": "markdown",
   "metadata": {},
   "source": [
    "<div align=\"center\">\n",
    "\n",
    "| Nama Kolom                  | Tipe Data  |\n",
    "|----------------------------|------------|\n",
    "| `id`                       | String     |\n",
    "| `brand`                    | String     |\n",
    "| `price`                    | Float      | \n",
    "| `currency`                 | String     |\n",
    "| `color`                    | String     |\n",
    "| `features`                 | String     |\n",
    "| `condition`                | String     | \n",
    "| `condition_description`    | String     |\n",
    "| `seller_note`              | String     |\n",
    "| `gpu`                      | String     |\n",
    "| `processor`                | String     |\n",
    "| `processor_speed`          | Float      |      \n",
    "| `processor_speed_unit`     | String     | \n",
    "| `type`                     | String     |\n",
    "| `width_of_the_display`     | Float      |       \n",
    "| `height_of_the_display`    | Float      |        \n",
    "| `os`                       | String     |\n",
    "| `storage_type`             | String     | \n",
    "| `hard_drive_capacity`      | Integer    |     \n",
    "| `hard_drive_capacity_unit` | String     | \n",
    "| `ssd_capacity`             | Integer    | \n",
    "| `ssd_capacity_unit`        | String     | \n",
    "| `screen_size_inch_`        | Float      | \n",
    "| `ram_size`                 | Integer    | \n",
    "| `ram_size_unit`            | String     | \n",
    "\n",
    "\n",
    "</div>"
   ]
  },
  {
   "attachments": {},
   "cell_type": "markdown",
   "metadata": {},
   "source": [
    "# A. Libraries"
   ]
  },
  {
   "cell_type": "code",
   "execution_count": 1,
   "metadata": {},
   "outputs": [],
   "source": [
    "# Import Libraries\n",
    "import pandas as pd\n",
    "import great_expectations as gx \n",
    "from great_expectations.checkpoint import Checkpoint\n",
    "from great_expectations.core.batch import RuntimeBatchRequest\n"
   ]
  },
  {
   "cell_type": "code",
   "execution_count": 2,
   "metadata": {},
   "outputs": [
    {
     "name": "stdout",
     "output_type": "stream",
     "text": [
      "0.18.19\n"
     ]
    }
   ],
   "source": [
    "\n",
    "print(gx.__version__)"
   ]
  },
  {
   "attachments": {},
   "cell_type": "markdown",
   "metadata": {},
   "source": [
    "## 1. Load the data (clean version)"
   ]
  },
  {
   "cell_type": "code",
   "execution_count": 3,
   "metadata": {},
   "outputs": [
    {
     "data": {
      "application/vnd.jupyter.widget-view+json": {
       "model_id": "d7e5dbc25a184f5bb6edd8913d735bff",
       "version_major": 2,
       "version_minor": 0
      },
      "text/plain": [
       "Calculating Metrics:   0%|          | 0/1 [00:00<?, ?it/s]"
      ]
     },
     "metadata": {},
     "output_type": "display_data"
    },
    {
     "name": "stdout",
     "output_type": "stream",
     "text": [
      "   id  brand  price currency  color  \\\n",
      "0   1  other  303.8        $   gray   \n",
      "1   3   dell  175.0        $  black   \n",
      "2   9   dell  280.0        $  black   \n",
      "3  14  other  152.0        $   gray   \n",
      "4  15  other  244.0        $   gray   \n",
      "\n",
      "                                            features                condition  \\\n",
      "0  Backlit Keyboard,  Built-in Microphone,  Built...                      New   \n",
      "1  10/100 LAN Card, Backlit Keyboard, Bluetooth, ...                     Used   \n",
      "2                                              Wi-Fi  Excellent - Refurbished   \n",
      "3                                              Wi-Fi                      New   \n",
      "4  Backlit Keyboard, Bluetooth, Built-in Micropho...                      New   \n",
      "\n",
      "                               condition_description  \\\n",
      "0  A brand-new, unused, unopened, undamaged item ...   \n",
      "1  An item that has been used previously. The ite...   \n",
      "2  The item is in like-new condition, backed by a...   \n",
      "3  A brand-new, unused, unopened, undamaged item ...   \n",
      "4  A brand-new, unused, unopened, undamaged item ...   \n",
      "\n",
      "                                         seller_note    gpu  ...  \\\n",
      "0                                          undefined  intel  ...   \n",
      "1  well kept, fully functional, includes battery,...  intel  ...   \n",
      "2                                          undefined  other  ...   \n",
      "3                                          undefined  intel  ...   \n",
      "4                                          undefined  intel  ...   \n",
      "\n",
      "  height_of_the_display       os storage_type hard_drive_capacity  \\\n",
      "0                1440.0  windows          ssd               512.0   \n",
      "1                1080.0  windows          ssd               500.0   \n",
      "2                1080.0  windows          ssd               512.0   \n",
      "3                1080.0  windows          ssd               256.0   \n",
      "4                1440.0  windows      hdd/ssd               512.0   \n",
      "\n",
      "   hard_drive_capacity_unit  ssd_capacity ssd_capacity_unit screen_size_inch_  \\\n",
      "0                        gb           1.0                tb                14   \n",
      "1                        gb         500.0                gb                14   \n",
      "2                        gb         500.0                gb                14   \n",
      "3                        gb         256.0                gb              14.1   \n",
      "4                        gb         512.0                gb                14   \n",
      "\n",
      "   ram_size ram_size_unit  \n",
      "0       8.0            gb  \n",
      "1      16.0            gb  \n",
      "2      16.0            gb  \n",
      "3       8.0            gb  \n",
      "4       8.0            gb  \n",
      "\n",
      "[5 rows x 25 columns]\n"
     ]
    }
   ],
   "source": [
    "\n",
    "# Menggunakan file data dari proyek Anda\n",
    "df = pd.read_csv('P2M3_Nugroho_Wicaksono_data_clean.csv')\n",
    "\n",
    "# 2. Load the GE context\n",
    "context = gx.get_context()\n",
    "\n",
    "# 3. Add datasource to the context (jika belum ada)\n",
    "datasource_name = \"runtime_pandas_datasource\"\n",
    "if datasource_name not in context.list_datasources():\n",
    "    context.add_datasource(\n",
    "        name=datasource_name,\n",
    "        class_name=\"Datasource\",\n",
    "        execution_engine={\"class_name\": \"PandasExecutionEngine\"},\n",
    "        data_connectors={\n",
    "            \"default_runtime_data_connector_name\": {\n",
    "                \"class_name\": \"RuntimeDataConnector\",\n",
    "                \"batch_identifiers\": [\"default_identifier_name\"]\n",
    "            }\n",
    "        })\n",
    "\n",
    "# 4. Register the dataframe as a runtime batch\n",
    "batch_request = RuntimeBatchRequest(\n",
    "    datasource_name=\"runtime_pandas_datasource\",\n",
    "    data_connector_name=\"default_runtime_data_connector_name\",\n",
    "    data_asset_name=\"p2m3_nugroho_wicaksono_clean_data\",\n",
    "    runtime_parameters={\"batch_data\": df},\n",
    "    batch_identifiers={\"default_identifier_name\": \"default\"},\n",
    ")\n",
    "\n",
    "# 5. Create or get the expectation suite\n",
    "expectation_suite_name = \"p2m3_nugroho_wicaksono_clean_data_suite\"\n",
    "context.add_or_update_expectation_suite(expectation_suite_name=expectation_suite_name)\n",
    "\n",
    "# 6. Create validator\n",
    "validator = context.get_validator(\n",
    "    batch_request=batch_request,\n",
    "    expectation_suite_name=expectation_suite_name,\n",
    ")\n",
    "\n",
    "# Print validator result\n",
    "print(validator.head())"
   ]
  },
  {
   "attachments": {},
   "cell_type": "markdown",
   "metadata": {},
   "source": [
    "# Validation"
   ]
  },
  {
   "attachments": {},
   "cell_type": "markdown",
   "metadata": {},
   "source": [
    "## Ekspektasi 1: Kolom ID transaksi harus unik"
   ]
  },
  {
   "cell_type": "code",
   "execution_count": 4,
   "metadata": {},
   "outputs": [
    {
     "data": {
      "application/vnd.jupyter.widget-view+json": {
       "model_id": "7065e65ab7c344d38a309fdd4314bb0d",
       "version_major": 2,
       "version_minor": 0
      },
      "text/plain": [
       "Calculating Metrics:   0%|          | 0/8 [00:00<?, ?it/s]"
      ]
     },
     "metadata": {},
     "output_type": "display_data"
    },
    {
     "data": {
      "text/plain": [
       "{\n",
       "  \"success\": true,\n",
       "  \"result\": {\n",
       "    \"element_count\": 574,\n",
       "    \"unexpected_count\": 0,\n",
       "    \"unexpected_percent\": 0.0,\n",
       "    \"partial_unexpected_list\": [],\n",
       "    \"missing_count\": 0,\n",
       "    \"missing_percent\": 0.0,\n",
       "    \"unexpected_percent_total\": 0.0,\n",
       "    \"unexpected_percent_nonmissing\": 0.0\n",
       "  },\n",
       "  \"meta\": {},\n",
       "  \"exception_info\": {\n",
       "    \"raised_exception\": false,\n",
       "    \"exception_traceback\": null,\n",
       "    \"exception_message\": null\n",
       "  }\n",
       "}"
      ]
     },
     "execution_count": 4,
     "metadata": {},
     "output_type": "execute_result"
    }
   ],
   "source": [
    "\n",
    "# Harus ada di dalam validasi\n",
    "validator.expect_column_values_to_be_unique(\"id\")"
   ]
  },
  {
   "attachments": {},
   "cell_type": "markdown",
   "metadata": {},
   "source": [
    "\n",
    "## Validation Summary: Kolom `id`\n",
    "\n",
    "### Ekspektasi\n",
    "Kolom `id` harus unik.\n",
    "\n",
    "### Hasil Validasi\n",
    "\n",
    "\n",
    "| Komponen         | Nilai             |\n",
    "|------------------|-------------------|\n",
    "| Jumlah Data      | 574               |\n",
    "| success          | true              |\n",
    "| unexpected_count | 0                 |\n",
    "| missing_count    | 0                 |\n",
    "\n",
    "\n",
    "\n",
    "### Conclusion\n",
    "Kolom id dalam dataset ini unik dan tidak memiliki nilai yang hilang. Ini mengonfirmasi integritas data dan membuat kolom ini cocok sebagai pengenal unik.\n",
    "\n"
   ]
  },
  {
   "attachments": {},
   "cell_type": "markdown",
   "metadata": {},
   "source": [
    "## Ekspektasi 2: Nilai di kolom 'price' harus berada dalam rentang tertentu"
   ]
  },
  {
   "cell_type": "code",
   "execution_count": 5,
   "metadata": {},
   "outputs": [
    {
     "data": {
      "application/vnd.jupyter.widget-view+json": {
       "model_id": "ba21510693fc4348b0dcbc3c9ac74f71",
       "version_major": 2,
       "version_minor": 0
      },
      "text/plain": [
       "Calculating Metrics:   0%|          | 0/8 [00:00<?, ?it/s]"
      ]
     },
     "metadata": {},
     "output_type": "display_data"
    },
    {
     "data": {
      "text/plain": [
       "{\n",
       "  \"success\": true,\n",
       "  \"result\": {\n",
       "    \"element_count\": 574,\n",
       "    \"unexpected_count\": 0,\n",
       "    \"unexpected_percent\": 0.0,\n",
       "    \"partial_unexpected_list\": [],\n",
       "    \"missing_count\": 0,\n",
       "    \"missing_percent\": 0.0,\n",
       "    \"unexpected_percent_total\": 0.0,\n",
       "    \"unexpected_percent_nonmissing\": 0.0\n",
       "  },\n",
       "  \"meta\": {},\n",
       "  \"exception_info\": {\n",
       "    \"raised_exception\": false,\n",
       "    \"exception_traceback\": null,\n",
       "    \"exception_message\": null\n",
       "  }\n",
       "}"
      ]
     },
     "execution_count": 5,
     "metadata": {},
     "output_type": "execute_result"
    }
   ],
   "source": [
    "\n",
    "# Harus ada di dalam validasi\n",
    "# Contoh: jumlah pembelian tidak boleh kurang dari 10 dan tidak lebih dari 2348\n",
    "validator.expect_column_values_to_be_between(\n",
    "    \"price\", min_value=10, max_value=2348\n",
    ")"
   ]
  },
  {
   "attachments": {},
   "cell_type": "markdown",
   "metadata": {},
   "source": [
    "\n",
    "## Validation Summary: Kolom `price`\n",
    "\n",
    "### Ekspektasi\n",
    "Nilai-nilai di kolom `price` harus berada dalam rentang tertentu, yaitu tidak kurang dari 10 dan tidak lebih dari 2348.\n",
    "\n",
    "### Hasil Validasi\n",
    "\n",
    "| Komponen                | Nilai            |\n",
    "|-------------------------|------------------|\n",
    "| Jumlah Data             | 574              |\n",
    "| success                 | true             |\n",
    "| unexpected_count        | 0                |\n",
    "| unexpected_percent      | 0.0              |\n",
    "| partial_unexpected_list | []               |\n",
    "| missing_count           | 0                |\n",
    "| raised_exception        | false            |\n",
    "\n",
    "### Conclusion\n",
    "Validasi terhadap kolom `price` berhasil sepenuhnya. Semua 574 nilai dalam kolom price berada dalam rentang yang telah ditetapkan (10 hingga 2348) dan tidak ada nilai yang hilang.\n"
   ]
  },
  {
   "attachments": {},
   "cell_type": "markdown",
   "metadata": {},
   "source": [
    "## Ekspektasi 3: Isi value set didalam brand harus sesuai"
   ]
  },
  {
   "cell_type": "code",
   "execution_count": 6,
   "metadata": {},
   "outputs": [
    {
     "data": {
      "application/vnd.jupyter.widget-view+json": {
       "model_id": "3ebb3cf6de9942d3808f450f2897dfb6",
       "version_major": 2,
       "version_minor": 0
      },
      "text/plain": [
       "Calculating Metrics:   0%|          | 0/8 [00:00<?, ?it/s]"
      ]
     },
     "metadata": {},
     "output_type": "display_data"
    },
    {
     "data": {
      "text/plain": [
       "{\n",
       "  \"success\": true,\n",
       "  \"result\": {\n",
       "    \"element_count\": 574,\n",
       "    \"unexpected_count\": 0,\n",
       "    \"unexpected_percent\": 0.0,\n",
       "    \"partial_unexpected_list\": [],\n",
       "    \"missing_count\": 0,\n",
       "    \"missing_percent\": 0.0,\n",
       "    \"unexpected_percent_total\": 0.0,\n",
       "    \"unexpected_percent_nonmissing\": 0.0\n",
       "  },\n",
       "  \"meta\": {},\n",
       "  \"exception_info\": {\n",
       "    \"raised_exception\": false,\n",
       "    \"exception_traceback\": null,\n",
       "    \"exception_message\": null\n",
       "  }\n",
       "}"
      ]
     },
     "execution_count": 6,
     "metadata": {},
     "output_type": "execute_result"
    }
   ],
   "source": [
    "\n",
    "validator.expect_column_values_to_be_in_set(\n",
    "    \"brand\",\n",
    "    value_set=[\"dell\", \"hp\", \"lenovo\", \"other\", \"acer\", \"asus\", \"microsoft\", \"samsung\", \"lg\"]\n",
    ")"
   ]
  },
  {
   "attachments": {},
   "cell_type": "markdown",
   "metadata": {},
   "source": [
    "\n",
    "# Validation Summary  \n",
    "- **Ekspektasi Validasi**: Nilai-nilai di kolom brand harus sesuai dengan set nilai yang telah ditentukan: [\"dell\", \"hp\", \"Lenovo\", \"other\", \"acer\", \"asus\", \"microsoft\", \"samsung\", \"lg\"].\n",
    "\n",
    "- **Jumlah Elemen**: Sebanyak **574** elemen (baris) divalidasi.\n",
    "\n",
    "- **Hasil Validasi**: Ekspektasi berhasil terpenuhi (**\"success\": true**).\n",
    "\n",
    "- **Analisis Nilai di Luar Set**:\n",
    "\n",
    "- **unexpected_count**: **0** (Tidak ada nilai di luar set yang ditemukan).\n",
    "\n",
    "- **unexpected_percent**: **0.0** (Persentase nilai di luar set adalah 0%).\n",
    "\n",
    "- **partial_unexpected_list**: **[]** (Tidak ada contoh nilai di luar set yang ditemukan).\n",
    "\n",
    "**Informasi Tambahan**:\n",
    "\n",
    "- **missing_count**: **0** (Tidak ada nilai yang hilang/kosong pada kolom brand).\n",
    "\n",
    "- **raised_exception**: **false** (Tidak ada kesalahan teknis yang terjadi).\n",
    "\n",
    "**Conclusion**  \n",
    "Validasi terhadap kolom brand berhasil sepenuhnya. Semua nilai brand dalam dataset ini sesuai dengan daftar yang telah ditentukan, dan tidak ada nilai yang hilang. Ini menjamin konsistensi dan integritas data pada kolom kategori brand, yang sangat penting untuk analisis kategori.\n",
    "\n"
   ]
  },
  {
   "attachments": {},
   "cell_type": "markdown",
   "metadata": {},
   "source": [
    "## Ekspektasi 4: Tipe data untuk kolom 'price' harus sesuai"
   ]
  },
  {
   "cell_type": "code",
   "execution_count": 7,
   "metadata": {},
   "outputs": [
    {
     "data": {
      "application/vnd.jupyter.widget-view+json": {
       "model_id": "094cdfb2d04c424b87ee38f947d83c67",
       "version_major": 2,
       "version_minor": 0
      },
      "text/plain": [
       "Calculating Metrics:   0%|          | 0/1 [00:00<?, ?it/s]"
      ]
     },
     "metadata": {},
     "output_type": "display_data"
    },
    {
     "data": {
      "text/plain": [
       "{\n",
       "  \"success\": true,\n",
       "  \"result\": {\n",
       "    \"observed_value\": \"float64\"\n",
       "  },\n",
       "  \"meta\": {},\n",
       "  \"exception_info\": {\n",
       "    \"raised_exception\": false,\n",
       "    \"exception_traceback\": null,\n",
       "    \"exception_message\": null\n",
       "  }\n",
       "}"
      ]
     },
     "execution_count": 7,
     "metadata": {},
     "output_type": "execute_result"
    }
   ],
   "source": [
    "\n",
    "validator.expect_column_values_to_be_in_type_list(\n",
    "    \"price\", type_list=[\"int\", \"float\"]\n",
    ")"
   ]
  },
  {
   "attachments": {},
   "cell_type": "markdown",
   "metadata": {},
   "source": [
    "# Validation Summary  \n",
    "- **Ekspektasi Validasi**: Tipe data untuk kolom price harus sesuai dengan daftar tipe yang ditentukan, yaitu **int** atau **float**.\n",
    "\n",
    "- **Hasil Validasi**: Ekspektasi berhasil terpenuhi (**\"success\": true**).\n",
    "\n",
    "- **Tipe Data Teramati**: Tipe data yang teramati pada kolom price adalah **\"float64\"**.\n",
    "\n",
    "**Informasi Tambahan**:  \n",
    "- **raised_exception**: **false** (Tidak ada kesalahan teknis yang terjadi).\n",
    "\n",
    "**Conclusion**  \n",
    "Validasi terhadap tipe data pada kolom price berhasil. Tipe data yang teramati, yaitu float64, termasuk dalam daftar tipe data yang diharapkan (int atau float). Ini memastikan konsistensi tipe data pada kolom harga, yang penting untuk operasi perhitungan dan analisis numerik.\n"
   ]
  },
  {
   "attachments": {},
   "cell_type": "markdown",
   "metadata": {},
   "source": [
    "## Ekspektasi 5: Kolom-kolom kunci harus ada"
   ]
  },
  {
   "cell_type": "code",
   "execution_count": 8,
   "metadata": {},
   "outputs": [
    {
     "data": {
      "application/vnd.jupyter.widget-view+json": {
       "model_id": "e3aa59bab8d648b7a7bd99d0b3b1350f",
       "version_major": 2,
       "version_minor": 0
      },
      "text/plain": [
       "Calculating Metrics:   0%|          | 0/2 [00:00<?, ?it/s]"
      ]
     },
     "metadata": {},
     "output_type": "display_data"
    },
    {
     "data": {
      "text/plain": [
       "{\n",
       "  \"success\": true,\n",
       "  \"result\": {},\n",
       "  \"meta\": {},\n",
       "  \"exception_info\": {\n",
       "    \"raised_exception\": false,\n",
       "    \"exception_traceback\": null,\n",
       "    \"exception_message\": null\n",
       "  }\n",
       "}"
      ]
     },
     "execution_count": 8,
     "metadata": {},
     "output_type": "execute_result"
    }
   ],
   "source": [
    "\n",
    "validator.expect_column_to_exist(\"id\")"
   ]
  },
  {
   "attachments": {},
   "cell_type": "markdown",
   "metadata": {},
   "source": [
    "# Validation Summary  \n",
    "- **Ekspektasi Validasi**: Kolom **id** harus ada dalam dataset.\n",
    "\n",
    "- **Hasil Validasi**: Ekspektasi berhasil terpenuhi (**\"success\": true**).\n",
    "\n",
    "**Informasi Tambahan**:  \n",
    "- Objek result kosong (**{}**) karena ekspektasi ini hanya memeriksa keberadaan kolom.  \n",
    "- **raised_exception**: **false** (Tidak ada kesalahan teknis yang terjadi).\n",
    "\n",
    "**Conclusion**  \n",
    "Validasi terhadap keberadaan kolom id berhasil. Kolom id ditemukan dalam dataset, yang memastikan bahwa data memiliki pengenal unik yang krusial untuk struktur data.\n"
   ]
  },
  {
   "attachments": {},
   "cell_type": "markdown",
   "metadata": {},
   "source": [
    "## Ekspektasi 6: Tidak ada nilai null di kolom-kolom penting"
   ]
  },
  {
   "cell_type": "code",
   "execution_count": 9,
   "metadata": {},
   "outputs": [
    {
     "data": {
      "application/vnd.jupyter.widget-view+json": {
       "model_id": "33dff2a9ed1c4a0ba4e16de86fdfc6e2",
       "version_major": 2,
       "version_minor": 0
      },
      "text/plain": [
       "Calculating Metrics:   0%|          | 0/6 [00:00<?, ?it/s]"
      ]
     },
     "metadata": {},
     "output_type": "display_data"
    },
    {
     "data": {
      "text/plain": [
       "{\n",
       "  \"success\": true,\n",
       "  \"result\": {\n",
       "    \"element_count\": 574,\n",
       "    \"unexpected_count\": 0,\n",
       "    \"unexpected_percent\": 0.0,\n",
       "    \"partial_unexpected_list\": []\n",
       "  },\n",
       "  \"meta\": {},\n",
       "  \"exception_info\": {\n",
       "    \"raised_exception\": false,\n",
       "    \"exception_traceback\": null,\n",
       "    \"exception_message\": null\n",
       "  }\n",
       "}"
      ]
     },
     "execution_count": 9,
     "metadata": {},
     "output_type": "execute_result"
    }
   ],
   "source": [
    "\n",
    "validator.expect_column_values_to_not_be_null(\"price\")"
   ]
  },
  {
   "attachments": {},
   "cell_type": "markdown",
   "metadata": {},
   "source": [
    "# Validation Summary  \n",
    "- **Ekspektasi Validasi**: Kolom **price** tidak boleh memiliki nilai null (kosong).\n",
    "\n",
    "- **Jumlah Elemen**: Sebanyak **574** elemen (baris) divalidasi.\n",
    "\n",
    "- **Hasil Validasi**: Ekspektasi berhasil terpenuhi (**\"success\": true**).\n",
    "\n",
    "- **Analisis Nilai Null**:  \n",
    "- **unexpected_count**: **0** (Tidak ada nilai null yang ditemukan).  \n",
    "- **unexpected_percent**: **0.0** (Persentase nilai null adalah 0%).  \n",
    "- **partial_unexpected_list**: **[]** (Tidak ada contoh nilai null yang ditemukan).\n",
    "\n",
    "**Informasi Tambahan**:  \n",
    "- **raised_exception**: **false** (Tidak ada kesalahan teknis yang terjadi).\n",
    "\n",
    "**Conclusion**  \n",
    "Validasi terhadap kolom price berhasil sepenuhnya. Semua 574 baris pada kolom price memiliki nilai yang valid dan tidak ada yang kosong. Hal ini memastikan kelengkapan data pada kolom harga, yang sangat penting untuk analisis statistik dan perhitungan.\n"
   ]
  },
  {
   "attachments": {},
   "cell_type": "markdown",
   "metadata": {},
   "source": [
    "## Ekspektasi 7: Memastikan urutan dan nama kolom sesuai dengan daftar yang diberikan"
   ]
  },
  {
   "cell_type": "code",
   "execution_count": 10,
   "metadata": {},
   "outputs": [
    {
     "data": {
      "application/vnd.jupyter.widget-view+json": {
       "model_id": "52e6e635d141443d990588fb4b2b3384",
       "version_major": 2,
       "version_minor": 0
      },
      "text/plain": [
       "Calculating Metrics:   0%|          | 0/2 [00:00<?, ?it/s]"
      ]
     },
     "metadata": {},
     "output_type": "display_data"
    },
    {
     "data": {
      "text/plain": [
       "{\n",
       "  \"success\": true,\n",
       "  \"result\": {\n",
       "    \"observed_value\": [\n",
       "      \"id\",\n",
       "      \"brand\",\n",
       "      \"price\",\n",
       "      \"currency\",\n",
       "      \"color\",\n",
       "      \"features\",\n",
       "      \"condition\",\n",
       "      \"condition_description\",\n",
       "      \"seller_note\",\n",
       "      \"gpu\",\n",
       "      \"processor\",\n",
       "      \"processor_speed\",\n",
       "      \"processor_speed_unit\",\n",
       "      \"type\",\n",
       "      \"width_of_the_display\",\n",
       "      \"height_of_the_display\",\n",
       "      \"os\",\n",
       "      \"storage_type\",\n",
       "      \"hard_drive_capacity\",\n",
       "      \"hard_drive_capacity_unit\",\n",
       "      \"ssd_capacity\",\n",
       "      \"ssd_capacity_unit\",\n",
       "      \"screen_size_inch_\",\n",
       "      \"ram_size\",\n",
       "      \"ram_size_unit\"\n",
       "    ]\n",
       "  },\n",
       "  \"meta\": {},\n",
       "  \"exception_info\": {\n",
       "    \"raised_exception\": false,\n",
       "    \"exception_traceback\": null,\n",
       "    \"exception_message\": null\n",
       "  }\n",
       "}"
      ]
     },
     "execution_count": 10,
     "metadata": {},
     "output_type": "execute_result"
    }
   ],
   "source": [
    "\n",
    "validator.expect_table_columns_to_match_ordered_list(\n",
    "        column_list=[\"id\", \"brand\", \"price\", \"currency\", \"color\", \"features\", \"condition\", \"condition_description\", \"seller_note\", \"gpu\", \"processor\", \"processor_speed\", \"processor_speed_unit\", \"type\", \"width_of_the_display\", \"height_of_the_display\", \"os\", \"storage_type\", \"hard_drive_capacity\", \"hard_drive_capacity_unit\", \"ssd_capacity\", \"ssd_capacity_unit\", \"screen_size_inch_\", \"ram_size\", \"ram_size_unit\"]\n",
    "\n",
    ")"
   ]
  },
  {
   "attachments": {},
   "cell_type": "markdown",
   "metadata": {},
   "source": [
    "# Validation Summary  \n",
    "- **Ekspektasi Validasi**: Skema kolom dalam dataset harus cocok dengan daftar kolom yang ditentukan dan urutannya.\n",
    "\n",
    "- **Hasil Validasi**: Ekspektasi berhasil terpenuhi (**\"success\": true**).\n",
    "\n",
    "- **Daftar Kolom Teramati**: Terdapat **21** kolom yang diamati dalam dataset, sesuai dengan daftar yang diharapkan, dan dalam urutan yang benar.  \n",
    "Kolom-kolom tersebut meliputi:  \n",
    "`id`, `brand`, `price`, `currency`, `color`, `features`, `condition_description`, `seller_note`, `gpu`, `processor`, `processor_speed_unit`, `type`, `width_of_the_display`, `height_of_the_display`, `os`, `storage_type`, `hard_drive_capacity`, `hard_drive_capacity_unit`, `ssd_capacity`, `ssd_capacity_unit`, `screen_size_inch`, `ram_size`, `ram_size_unit`.\n",
    "\n",
    "**Informasi Tambahan**:  \n",
    "- **raised_exception**: **false** (Tidak ada kesalahan teknis yang terjadi).\n",
    "\n",
    "**Conclusion**  \n",
    "Validasi skema tabel berhasil sepenuhnya. Dataset memiliki semua kolom yang diharapkan dalam urutan yang benar, yang mengonfirmasi struktur data yang konsisten. Hal ini memastikan bahwa data dapat diproses dan diintegrasikan dengan sistem lain tanpa masalah skema.\n"
   ]
  },
  {
   "attachments": {},
   "cell_type": "markdown",
   "metadata": {},
   "source": [
    "## Ekspektasi 8 : Memastikan jumlah baris berada dalam rentang yang wajar"
   ]
  },
  {
   "cell_type": "code",
   "execution_count": 11,
   "metadata": {},
   "outputs": [
    {
     "data": {
      "application/vnd.jupyter.widget-view+json": {
       "model_id": "5921fd50356544dcbdf5f3897f8e199b",
       "version_major": 2,
       "version_minor": 0
      },
      "text/plain": [
       "Calculating Metrics:   0%|          | 0/1 [00:00<?, ?it/s]"
      ]
     },
     "metadata": {},
     "output_type": "display_data"
    },
    {
     "data": {
      "text/plain": [
       "{\n",
       "  \"success\": true,\n",
       "  \"result\": {\n",
       "    \"observed_value\": 574\n",
       "  },\n",
       "  \"meta\": {},\n",
       "  \"exception_info\": {\n",
       "    \"raised_exception\": false,\n",
       "    \"exception_traceback\": null,\n",
       "    \"exception_message\": null\n",
       "  }\n",
       "}"
      ]
     },
     "execution_count": 11,
     "metadata": {},
     "output_type": "execute_result"
    }
   ],
   "source": [
    "\n",
    "validator.expect_table_row_count_to_be_between(\n",
    "    min_value=0, max_value=1000\n",
    ")"
   ]
  },
  {
   "attachments": {},
   "cell_type": "markdown",
   "metadata": {},
   "source": [
    "# Validation Summary  \n",
    "- **Ekspektasi Validasi**: Jumlah baris dalam tabel harus berada di antara 0 dan 1000.\n",
    "\n",
    "- **Hasil Validasi**: Ekspektasi berhasil terpenuhi (**\"success\": true**).\n",
    "\n",
    "- **Jumlah Baris Teramati**: **574** baris ditemukan dalam dataset, berada dalam rentang **min_value=0** dan **max_value=1000**.\n",
    "\n",
    "**Informasi Tambahan**:  \n",
    "- **raised_exception**: **false** (Tidak ada kesalahan teknis yang terjadi).\n",
    "\n",
    "**Conclusion**  \n",
    "Validasi jumlah baris berhasil. Dataset memiliki **574** baris, yang sesuai dengan ekspektasi jumlah baris yang wajar (**0–1000**). Hal ini memastikan bahwa dataset tidak kosong dan tidak terlalu besar, yang merupakan indikator kualitas data yang baik.\n"
   ]
  },
  {
   "attachments": {},
   "cell_type": "markdown",
   "metadata": {},
   "source": [
    "## Saving suite"
   ]
  },
  {
   "cell_type": "code",
   "execution_count": 12,
   "metadata": {},
   "outputs": [
    {
     "name": "stdout",
     "output_type": "stream",
     "text": [
      "\n",
      "Ekspektasi suite 'p2m3_nugroho_wicaksono_clean_data_suite' telah disimpan.\n"
     ]
    }
   ],
   "source": [
    "\n",
    "validator.save_expectation_suite(discard_failed_expectations=False)\n",
    "print(f\"\\nEkspektasi suite '{expectation_suite_name}' telah disimpan.\")"
   ]
  },
  {
   "attachments": {},
   "cell_type": "markdown",
   "metadata": {},
   "source": [
    "# Summary of Expectation Suite Execution  \n",
    "\n",
    "- **Pembuatan Expectation Suite**: Serangkaian ekspektasi telah dibuat untuk menguji kualitas data, meliputi:\n",
    "\n",
    "  - **Keunikan**: Memastikan kolom **id** unik.\n",
    "  - **Rentang Nilai**: Memastikan nilai kolom **price** berada dalam rentang yang wajar (**10 hingga 2348**).\n",
    "  - **Nilai yang Diizinkan**: Memastikan nilai kolom **brand** hanya berasal dari daftar yang telah ditentukan.\n",
    "  - **Tipe Data**: Memastikan kolom **price** memiliki tipe data numerik (**int** atau **float**).\n",
    "  - **Keberadaan Kolom**: Memastikan kolom kunci seperti **id** ada.\n",
    "  - **Tidak Ada Nilai Kosong**: Memastikan kolom **price** tidak memiliki nilai null.\n",
    "  - **Struktur Kolom**: Memastikan daftar kolom dan urutannya sesuai dengan yang diharapkan.\n",
    "  - **Jumlah Baris**: Memastikan jumlah baris data berada dalam rentang yang wajar (**0 hingga 1000**).\n",
    "\n",
    "- **Penyimpanan Expectation Suite**: Semua ekspektasi yang telah dibuat dikumpulkan dalam satu suite dan disimpan.  \n",
    "  Hal ini memungkinkan penggunaan ulang aturan validasi ini untuk data baru secara otomatis di masa depan.\n",
    "\n",
    "**Conclusion**  \n",
    "Kode ini berhasil melaksanakan serangkaian validasi kualitas data yang komprehensif menggunakan **Great Expectations**.  \n",
    "Semua ekspektasi berhasil **terpenuhi**, menunjukkan bahwa dataset memiliki **kualitas tinggi**:  \n",
    "data terstruktur dengan baik, **konsisten**, **tanpa nilai yang hilang atau tidak wajar**, dan **siap digunakan** untuk tahap analisis atau pemodelan lebih lanjut.\n"
   ]
  },
  {
   "attachments": {},
   "cell_type": "markdown",
   "metadata": {},
   "source": [
    "## Create Checkpoint"
   ]
  },
  {
   "cell_type": "code",
   "execution_count": 13,
   "metadata": {},
   "outputs": [
    {
     "name": "stdout",
     "output_type": "stream",
     "text": [
      "Menjalankan checkpoint...\n"
     ]
    },
    {
     "data": {
      "application/vnd.jupyter.widget-view+json": {
       "model_id": "ae36fa80ecf142c896cd6aef5557bab1",
       "version_major": 2,
       "version_minor": 0
      },
      "text/plain": [
       "Calculating Metrics:   0%|          | 0/27 [00:00<?, ?it/s]"
      ]
     },
     "metadata": {},
     "output_type": "display_data"
    },
    {
     "name": "stdout",
     "output_type": "stream",
     "text": [
      "\n",
      "Checkpoint Result:\n",
      "{\n",
      "  \"run_id\": {\n",
      "    \"run_name\": \"20250802-170120\",\n",
      "    \"run_time\": \"2025-08-03T00:01:20.729862+07:00\"\n",
      "  },\n",
      "  \"run_results\": {\n",
      "    \"ValidationResultIdentifier::p2m3_nugroho_wicaksono_clean_data_suite/20250802-170120/20250802T170120.729862Z/b74ab132d40cd406cce38ec136c120c9\": {\n",
      "      \"validation_result\": {\n",
      "        \"success\": true,\n",
      "        \"results\": [\n",
      "          {\n",
      "            \"success\": true,\n",
      "            \"expectation_config\": {\n",
      "              \"expectation_type\": \"expect_column_values_to_be_unique\",\n",
      "              \"kwargs\": {\n",
      "                \"column\": \"id\",\n",
      "                \"batch_id\": \"b74ab132d40cd406cce38ec136c120c9\"\n",
      "              },\n",
      "              \"meta\": {}\n",
      "            },\n",
      "            \"result\": {\n",
      "              \"element_count\": 574,\n",
      "              \"unexpected_count\": 0,\n",
      "              \"unexpected_percent\": 0.0,\n",
      "              \"partial_unexpected_list\": [],\n",
      "              \"missing_count\": 0,\n",
      "              \"missing_percent\": 0.0,\n",
      "              \"unexpected_percent_total\": 0.0,\n",
      "              \"unexpected_percent_nonmissing\": 0.0,\n",
      "              \"partial_unexpected_counts\": [],\n",
      "              \"partial_unexpected_index_list\": []\n",
      "            },\n",
      "            \"meta\": {},\n",
      "            \"exception_info\": {\n",
      "              \"raised_exception\": false,\n",
      "              \"exception_traceback\": null,\n",
      "              \"exception_message\": null\n",
      "            }\n",
      "          },\n",
      "          {\n",
      "            \"success\": true,\n",
      "            \"expectation_config\": {\n",
      "              \"expectation_type\": \"expect_column_to_exist\",\n",
      "              \"kwargs\": {\n",
      "                \"column\": \"id\",\n",
      "                \"batch_id\": \"b74ab132d40cd406cce38ec136c120c9\"\n",
      "              },\n",
      "              \"meta\": {}\n",
      "            },\n",
      "            \"result\": {},\n",
      "            \"meta\": {},\n",
      "            \"exception_info\": {\n",
      "              \"raised_exception\": false,\n",
      "              \"exception_traceback\": null,\n",
      "              \"exception_message\": null\n",
      "            }\n",
      "          },\n",
      "          {\n",
      "            \"success\": true,\n",
      "            \"expectation_config\": {\n",
      "              \"expectation_type\": \"expect_column_values_to_be_between\",\n",
      "              \"kwargs\": {\n",
      "                \"column\": \"price\",\n",
      "                \"max_value\": 2348,\n",
      "                \"min_value\": 10,\n",
      "                \"batch_id\": \"b74ab132d40cd406cce38ec136c120c9\"\n",
      "              },\n",
      "              \"meta\": {}\n",
      "            },\n",
      "            \"result\": {\n",
      "              \"element_count\": 574,\n",
      "              \"unexpected_count\": 0,\n",
      "              \"unexpected_percent\": 0.0,\n",
      "              \"partial_unexpected_list\": [],\n",
      "              \"missing_count\": 0,\n",
      "              \"missing_percent\": 0.0,\n",
      "              \"unexpected_percent_total\": 0.0,\n",
      "              \"unexpected_percent_nonmissing\": 0.0,\n",
      "              \"partial_unexpected_counts\": [],\n",
      "              \"partial_unexpected_index_list\": []\n",
      "            },\n",
      "            \"meta\": {},\n",
      "            \"exception_info\": {\n",
      "              \"raised_exception\": false,\n",
      "              \"exception_traceback\": null,\n",
      "              \"exception_message\": null\n",
      "            }\n",
      "          },\n",
      "          {\n",
      "            \"success\": true,\n",
      "            \"expectation_config\": {\n",
      "              \"expectation_type\": \"expect_column_values_to_be_in_type_list\",\n",
      "              \"kwargs\": {\n",
      "                \"column\": \"price\",\n",
      "                \"type_list\": [\n",
      "                  \"int\",\n",
      "                  \"float\"\n",
      "                ],\n",
      "                \"batch_id\": \"b74ab132d40cd406cce38ec136c120c9\"\n",
      "              },\n",
      "              \"meta\": {}\n",
      "            },\n",
      "            \"result\": {\n",
      "              \"observed_value\": \"float64\"\n",
      "            },\n",
      "            \"meta\": {},\n",
      "            \"exception_info\": {\n",
      "              \"raised_exception\": false,\n",
      "              \"exception_traceback\": null,\n",
      "              \"exception_message\": null\n",
      "            }\n",
      "          },\n",
      "          {\n",
      "            \"success\": true,\n",
      "            \"expectation_config\": {\n",
      "              \"expectation_type\": \"expect_column_values_to_not_be_null\",\n",
      "              \"kwargs\": {\n",
      "                \"column\": \"price\",\n",
      "                \"batch_id\": \"b74ab132d40cd406cce38ec136c120c9\"\n",
      "              },\n",
      "              \"meta\": {}\n",
      "            },\n",
      "            \"result\": {\n",
      "              \"element_count\": 574,\n",
      "              \"unexpected_count\": 0,\n",
      "              \"unexpected_percent\": 0.0,\n",
      "              \"partial_unexpected_list\": [],\n",
      "              \"partial_unexpected_counts\": [],\n",
      "              \"partial_unexpected_index_list\": []\n",
      "            },\n",
      "            \"meta\": {},\n",
      "            \"exception_info\": {\n",
      "              \"raised_exception\": false,\n",
      "              \"exception_traceback\": null,\n",
      "              \"exception_message\": null\n",
      "            }\n",
      "          },\n",
      "          {\n",
      "            \"success\": true,\n",
      "            \"expectation_config\": {\n",
      "              \"expectation_type\": \"expect_column_values_to_be_in_set\",\n",
      "              \"kwargs\": {\n",
      "                \"column\": \"brand\",\n",
      "                \"value_set\": [\n",
      "                  \"dell\",\n",
      "                  \"hp\",\n",
      "                  \"lenovo\",\n",
      "                  \"other\",\n",
      "                  \"acer\",\n",
      "                  \"asus\",\n",
      "                  \"microsoft\",\n",
      "                  \"samsung\",\n",
      "                  \"lg\"\n",
      "                ],\n",
      "                \"batch_id\": \"b74ab132d40cd406cce38ec136c120c9\"\n",
      "              },\n",
      "              \"meta\": {}\n",
      "            },\n",
      "            \"result\": {\n",
      "              \"element_count\": 574,\n",
      "              \"unexpected_count\": 0,\n",
      "              \"unexpected_percent\": 0.0,\n",
      "              \"partial_unexpected_list\": [],\n",
      "              \"missing_count\": 0,\n",
      "              \"missing_percent\": 0.0,\n",
      "              \"unexpected_percent_total\": 0.0,\n",
      "              \"unexpected_percent_nonmissing\": 0.0,\n",
      "              \"partial_unexpected_counts\": [],\n",
      "              \"partial_unexpected_index_list\": []\n",
      "            },\n",
      "            \"meta\": {},\n",
      "            \"exception_info\": {\n",
      "              \"raised_exception\": false,\n",
      "              \"exception_traceback\": null,\n",
      "              \"exception_message\": null\n",
      "            }\n",
      "          },\n",
      "          {\n",
      "            \"success\": true,\n",
      "            \"expectation_config\": {\n",
      "              \"expectation_type\": \"expect_table_columns_to_match_ordered_list\",\n",
      "              \"kwargs\": {\n",
      "                \"column_list\": [\n",
      "                  \"id\",\n",
      "                  \"brand\",\n",
      "                  \"price\",\n",
      "                  \"currency\",\n",
      "                  \"color\",\n",
      "                  \"features\",\n",
      "                  \"condition\",\n",
      "                  \"condition_description\",\n",
      "                  \"seller_note\",\n",
      "                  \"gpu\",\n",
      "                  \"processor\",\n",
      "                  \"processor_speed\",\n",
      "                  \"processor_speed_unit\",\n",
      "                  \"type\",\n",
      "                  \"width_of_the_display\",\n",
      "                  \"height_of_the_display\",\n",
      "                  \"os\",\n",
      "                  \"storage_type\",\n",
      "                  \"hard_drive_capacity\",\n",
      "                  \"hard_drive_capacity_unit\",\n",
      "                  \"ssd_capacity\",\n",
      "                  \"ssd_capacity_unit\",\n",
      "                  \"screen_size_inch_\",\n",
      "                  \"ram_size\",\n",
      "                  \"ram_size_unit\"\n",
      "                ],\n",
      "                \"batch_id\": \"b74ab132d40cd406cce38ec136c120c9\"\n",
      "              },\n",
      "              \"meta\": {}\n",
      "            },\n",
      "            \"result\": {\n",
      "              \"observed_value\": [\n",
      "                \"id\",\n",
      "                \"brand\",\n",
      "                \"price\",\n",
      "                \"currency\",\n",
      "                \"color\",\n",
      "                \"features\",\n",
      "                \"condition\",\n",
      "                \"condition_description\",\n",
      "                \"seller_note\",\n",
      "                \"gpu\",\n",
      "                \"processor\",\n",
      "                \"processor_speed\",\n",
      "                \"processor_speed_unit\",\n",
      "                \"type\",\n",
      "                \"width_of_the_display\",\n",
      "                \"height_of_the_display\",\n",
      "                \"os\",\n",
      "                \"storage_type\",\n",
      "                \"hard_drive_capacity\",\n",
      "                \"hard_drive_capacity_unit\",\n",
      "                \"ssd_capacity\",\n",
      "                \"ssd_capacity_unit\",\n",
      "                \"screen_size_inch_\",\n",
      "                \"ram_size\",\n",
      "                \"ram_size_unit\"\n",
      "              ]\n",
      "            },\n",
      "            \"meta\": {},\n",
      "            \"exception_info\": {\n",
      "              \"raised_exception\": false,\n",
      "              \"exception_traceback\": null,\n",
      "              \"exception_message\": null\n",
      "            }\n",
      "          },\n",
      "          {\n",
      "            \"success\": true,\n",
      "            \"expectation_config\": {\n",
      "              \"expectation_type\": \"expect_table_row_count_to_be_between\",\n",
      "              \"kwargs\": {\n",
      "                \"max_value\": 1000,\n",
      "                \"min_value\": 0,\n",
      "                \"batch_id\": \"b74ab132d40cd406cce38ec136c120c9\"\n",
      "              },\n",
      "              \"meta\": {}\n",
      "            },\n",
      "            \"result\": {\n",
      "              \"observed_value\": 574\n",
      "            },\n",
      "            \"meta\": {},\n",
      "            \"exception_info\": {\n",
      "              \"raised_exception\": false,\n",
      "              \"exception_traceback\": null,\n",
      "              \"exception_message\": null\n",
      "            }\n",
      "          }\n",
      "        ],\n",
      "        \"evaluation_parameters\": {},\n",
      "        \"statistics\": {\n",
      "          \"evaluated_expectations\": 8,\n",
      "          \"successful_expectations\": 8,\n",
      "          \"unsuccessful_expectations\": 0,\n",
      "          \"success_percent\": 100.0\n",
      "        },\n",
      "        \"meta\": {\n",
      "          \"great_expectations_version\": \"0.18.19\",\n",
      "          \"expectation_suite_name\": \"p2m3_nugroho_wicaksono_clean_data_suite\",\n",
      "          \"run_id\": {\n",
      "            \"run_name\": \"20250802-170120\",\n",
      "            \"run_time\": \"2025-08-03T00:01:20.729862+07:00\"\n",
      "          },\n",
      "          \"batch_spec\": {\n",
      "            \"data_asset_name\": \"p2m3_nugroho_wicaksono_clean_data\",\n",
      "            \"batch_data\": \"PandasDataFrame\"\n",
      "          },\n",
      "          \"batch_markers\": {\n",
      "            \"ge_load_time\": \"20250802T170120.732775Z\",\n",
      "            \"pandas_data_fingerprint\": \"2ea8cf4dd9e42f5c000b9144b3079a45\"\n",
      "          },\n",
      "          \"active_batch_definition\": {\n",
      "            \"datasource_name\": \"runtime_pandas_datasource\",\n",
      "            \"data_connector_name\": \"default_runtime_data_connector_name\",\n",
      "            \"data_asset_name\": \"p2m3_nugroho_wicaksono_clean_data\",\n",
      "            \"batch_identifiers\": {\n",
      "              \"default_identifier_name\": \"default\"\n",
      "            }\n",
      "          },\n",
      "          \"validation_time\": \"20250802T170120.742296Z\",\n",
      "          \"checkpoint_name\": \"p2m3_nugroho_wicaksono_clean_data_checkpoint\",\n",
      "          \"validation_id\": null,\n",
      "          \"checkpoint_id\": null\n",
      "        }\n",
      "      },\n",
      "      \"actions_results\": {\n",
      "        \"storing_the_validation_result\": {\n",
      "          \"class\": \"StoreValidationResultAction\"\n",
      "        },\n",
      "        \"update_the_data_docs\": {\n",
      "          \"local_site\": \"file://C:\\\\Users\\\\damar\\\\AppData\\\\Local\\\\Temp\\\\tmpb_t3rf5f\\\\validations%5Cp2m3_nugroho_wicaksono_clean_data_suite%5C20250802-170120%5C20250802T170120.729862Z%5Cb74ab132d40cd406cce38ec136c120c9.html\",\n",
      "          \"class\": \"UpdateDataDocsAction\"\n",
      "        }\n",
      "      }\n",
      "    }\n",
      "  },\n",
      "  \"checkpoint_config\": {\n",
      "    \"profilers\": [],\n",
      "    \"ge_cloud_id\": null,\n",
      "    \"validations\": [],\n",
      "    \"config_version\": 1.0,\n",
      "    \"batch_request\": {},\n",
      "    \"default_validation_id\": null,\n",
      "    \"module_name\": \"great_expectations.checkpoint\",\n",
      "    \"slack_webhook\": null,\n",
      "    \"action_list\": [\n",
      "      {\n",
      "        \"name\": \"storing_the_validation_result\",\n",
      "        \"action\": {\n",
      "          \"class_name\": \"StoreValidationResultAction\"\n",
      "        }\n",
      "      },\n",
      "      {\n",
      "        \"name\": \"update_the_data_docs\",\n",
      "        \"action\": {\n",
      "          \"class_name\": \"UpdateDataDocsAction\"\n",
      "        }\n",
      "      }\n",
      "    ],\n",
      "    \"runtime_configuration\": {},\n",
      "    \"run_name_template\": \"%Y%m%d-%H%M%S\",\n",
      "    \"site_names\": null,\n",
      "    \"expectation_suite_ge_cloud_id\": null,\n",
      "    \"template_name\": null,\n",
      "    \"notify_with\": null,\n",
      "    \"expectation_suite_name\": \"p2m3_nugroho_wicaksono_clean_data_suite\",\n",
      "    \"evaluation_parameters\": {},\n",
      "    \"name\": \"p2m3_nugroho_wicaksono_clean_data_checkpoint\",\n",
      "    \"notify_on\": null,\n",
      "    \"class_name\": \"Checkpoint\"\n",
      "  },\n",
      "  \"success\": true\n",
      "}\n"
     ]
    }
   ],
   "source": [
    "\n",
    "# Nama checkpoint diganti agar sesuai dengan proyek Anda\n",
    "my_checkpoint_name = \"p2m3_nugroho_wicaksono_clean_data_checkpoint\"\n",
    "checkpoint = Checkpoint(\n",
    "    name=my_checkpoint_name,\n",
    "    run_name_template=\"%Y%m%d-%H%M%S\",\n",
    "    data_context=context,\n",
    "    expectation_suite_name=expectation_suite_name,\n",
    "    action_list=[\n",
    "        {\n",
    "            \"name\": \"storing_the_validation_result\",\n",
    "            \"action\": {\"class_name\": \"StoreValidationResultAction\"},\n",
    "        },\n",
    "        {\"name\": \"update_the_data_docs\", \"action\": {\"class_name\": \"UpdateDataDocsAction\"}},\n",
    "    ],\n",
    ")\n",
    "\n",
    "# 7. Add the checkpoint to the context\n",
    "context.add_or_update_checkpoint(checkpoint=checkpoint)\n",
    "\n",
    "# 8. Run the checkpoint\n",
    "print(\"Menjalankan checkpoint...\")\n",
    "result = checkpoint.run(batch_request=batch_request)\n",
    "\n",
    "# 9. Print the result\n",
    "print(\"\\nCheckpoint Result:\")\n",
    "print(result)"
   ]
  },
  {
   "attachments": {},
   "cell_type": "markdown",
   "metadata": {},
   "source": [
    "# Checkpoint Configuration Summary\n",
    "\n",
    "- **Definisi Checkpoint**:  \n",
    "  Sebuah **Checkpoint** bernama **p2m3_nugroho_wicaksono_clean_data_checkpoint** didefinisikan.  \n",
    "  Checkpoint ini berfungsi sebagai **titik pemeriksaan otomatis** yang mengintegrasikan seluruh proses validasi data.\n",
    "\n",
    "- **Konfigurasi Checkpoint**:\n",
    "  - **Nama Checkpoint**: `p2m3_nugroho_wicaksono_clean_data_checkpoint`\n",
    "  - **run_name_template**: Template `%Y%m%d-%H%M%S` digunakan untuk memberi nama unik pada setiap eksekusi, berdasarkan **waktu dan tanggal**.\n",
    "  - **expectation_suite_name**: Terhubung ke suite ekspektasi yang berisi seluruh aturan validasi.\n",
    "  - **action_list**:\n",
    "    - `StoreValidationResultAction`: Menyimpan hasil validasi ke repositori **Great Expectations**.\n",
    "    - `UpdateDataDocsAction`: Memperbarui **Data Docs** untuk menampilkan hasil validasi terbaru.\n",
    "\n",
    "- **Eksekusi Checkpoint**:\n",
    "  - Checkpoint dijalankan dengan `checkpoint.run()`.\n",
    "  - Aksi `store_validation_result` dan `update_data_docs` dieksekusi secara **otomatis**.\n",
    "  - Hasil eksekusi disimpan dalam variabel `result`, berisi **status success, statistik, dan metadata lainnya**.\n",
    "\n",
    "**Conclusion**  \n",
    "Checkpoint berhasil dikonfigurasi dan dijalankan dengan baik.  \n",
    "Proses ini menunjukkan praktik terbaik dalam **manajemen kualitas data**, karena validasi dijalankan secara **otomatis**, hasilnya disimpan dan dokumentasi diperbarui.  \n",
    "Hal ini memastikan proses validasi dapat dilakukan secara **berulang dan terdokumentasi**, mendukung **monitoring kualitas data yang berkelanjutan**.\n"
   ]
  },
  {
   "attachments": {},
   "cell_type": "markdown",
   "metadata": {},
   "source": [
    "## Create Documentation"
   ]
  },
  {
   "cell_type": "code",
   "execution_count": 15,
   "metadata": {},
   "outputs": [],
   "source": [
    "context.build_data_docs()\n",
    "context.open_data_docs()  # ini membuka browser dengan hasil validasi"
   ]
  },
  {
   "attachments": {},
   "cell_type": "markdown",
   "metadata": {},
   "source": [
    "# Ringkasan Hasil Validasi Data\n",
    "\n",
    "Delapan ekspektasi (expectation) telah diterapkan terhadap dataset penjualan laptop untuk memastikan kualitas data. Berikut adalah ringkasan hasilnya:\n",
    "\n",
    "1. **Unik (Unique)**  \n",
    "   - Kolom `id` divalidasi untuk memastikan tidak ada duplikasi.  \n",
    "   - **Hasil**: Validasi berhasil, semua 574 baris memiliki nilai `id` yang unik.\n",
    "\n",
    "2. **Rentang Nilai (Range Check)**  \n",
    "   - Kolom `price` harus berada antara **10 hingga 2348**.  \n",
    "   - **Hasil**: Semua nilai dalam rentang, tidak ada outlier.\n",
    "\n",
    "3. **Nilai yang Diizinkan (Set Membership)**  \n",
    "   - Kolom `brand` hanya boleh berisi nilai dari daftar tertentu:  \n",
    "     `[\"dell\", \"hp\", \"lenovo\", \"other\", \"acer\", \"asus\", \"microsoft\", \"samsung\", \"lg\"]`.  \n",
    "   - **Hasil**: Semua nilai valid dan sesuai set.\n",
    "\n",
    "4. **Tipe Data (Data Type)**  \n",
    "   - Kolom `price` harus memiliki tipe data `int` atau `float`.  \n",
    "   - **Hasil**: Tipe data yang teramati adalah `float64` dan valid.\n",
    "\n",
    "5. **Keberadaan Kolom (Column Existence)**  \n",
    "   - Kolom `id` harus ada dalam dataset.  \n",
    "   - **Hasil**: Kolom ditemukan dan ekspektasi berhasil.\n",
    "\n",
    "6. **Tidak Ada Nilai Kosong (Not Null)**  \n",
    "   - Kolom `price` tidak boleh mengandung nilai `null`.  \n",
    "   - **Hasil**: Semua nilai tersedia, tidak ada missing value.\n",
    "\n",
    "7. **Struktur Kolom (Schema Match)**  \n",
    "   - Urutan dan daftar kolom harus cocok dengan yang ditentukan.  \n",
    "   - **Hasil**: Semua 25 kolom terdeteksi sesuai urutan dan nama.\n",
    "\n",
    "8. **Jumlah Baris (Row Count Range)**  \n",
    "   - Jumlah baris dataset harus berada antara **0 dan 1000**.  \n",
    "   - **Hasil**: Dataset memiliki 574 baris, sesuai ekspektasi.\n",
    "\n",
    "---\n",
    "\n",
    "**Kesimpulan Umum**  \n",
    "Seluruh validasi berhasil dengan status **\"success: true\"**.  \n",
    "Dataset tidak mengandung nilai hilang, outlier, atau kesalahan skema.  \n",
    "Struktur dan isi data sepenuhnya memenuhi standar kualitas, menjadikan dataset ini siap untuk dipakai dalam analisis lanjutan atau pemodelan machine learning.\n"
   ]
  }
 ],
 "metadata": {
  "kernelspec": {
   "display_name": "milestone_3",
   "language": "python",
   "name": "python3"
  },
  "language_info": {
   "codemirror_mode": {
    "name": "ipython",
    "version": 3
   },
   "file_extension": ".py",
   "mimetype": "text/x-python",
   "name": "python",
   "nbconvert_exporter": "python",
   "pygments_lexer": "ipython3",
   "version": "3.10.18 | packaged by Anaconda, Inc. | (main, Jun  5 2025, 13:08:55) [MSC v.1929 64 bit (AMD64)]"
  },
  "orig_nbformat": 4,
  "vscode": {
   "interpreter": {
    "hash": "1e2c819c544a13535ead97d01eb56afe6cbf8de9c4f2027f9c82db3bea52b808"
   }
  }
 },
 "nbformat": 4,
 "nbformat_minor": 2
}
